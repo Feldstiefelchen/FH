{
 "cells": [
  {
   "cell_type": "markdown",
   "source": [
    "Assignment 1 - Python coding warm up\n",
    "------------------------------------\n",
    "**Information:**\n",
    "Variablen und Funktione werden klein geschrieben\n",
    "Klassen werden groß geschrieben"
   ],
   "metadata": {
    "collapsed": false,
    "pycharm": {
     "name": "#%% md\n"
    }
   }
  },
  {
   "cell_type": "code",
   "execution_count": 2,
   "outputs": [
    {
     "name": "stdout",
     "output_type": "stream",
     "text": [
      "Die Zahl ist größer, probier es noch einmal.\n",
      "Die Zahl ist größer, probier es noch einmal.\n",
      "Die Zahl ist größer, probier es noch einmal.\n",
      "Die Zahl ist größer, probier es noch einmal.\n",
      "Die Zahl ist größer, probier es noch einmal.\n",
      "Du hast die Zahl leider nicht erraten\n"
     ]
    }
   ],
   "source": [
    "import random\n",
    "import time\n",
    "\n",
    "#Variablendefinition\n",
    "information = \" \"\n",
    "wrong_input = True\n",
    "game_result = True\n",
    "\n",
    "def give_cookie(random_number):\n",
    "    #Cookie bei richtiger Eingabe in Console hergeben\n",
    "    print(\"Have your cookie - die Zahl war {}\".format(str(random_number)))\n",
    "\n",
    "def generate_number():\n",
    "    #Erzeugen einer Zufallszahl zwischen 1 und 25\n",
    "    rn = random.randint(1,25)\n",
    "    return rn\n",
    "\n",
    "def compare_numbers (zz,ui):\n",
    "    #zz = Zufahlszahl ui=UserInput\n",
    "    #Vergleich von eingegebener Zahl und Zufallszahl\n",
    "    if zz is ui:\n",
    "        return 1 #Zahlen sind gleich\n",
    "    elif ui < zz:\n",
    "        return 2 #Zahl ist kleiner \n",
    "    else:\n",
    "        return 3 #Zahl ist größer\n",
    "\n",
    "def my_guess (text,n):\n",
    "    #Funktion für die Eingabe und Kontrolle einer Zahl\n",
    "    while True:\n",
    "        try:\n",
    "            time.sleep(0.25)\n",
    "            ui = int(input(text + ' Bitte Zahl eingeben. Noch ' + str(5-n) + ' Versuche'))\n",
    "            return ui\n",
    "        except:\n",
    "\n",
    "            text = \"Kein gültige Eingabe!\"\n",
    "\n",
    "def start_game():\n",
    "    #Funktion für die Durchführung des Spiels\n",
    "    random_number = generate_number() #Aufruf der Funktion für die Generierung der Zufallszahl\n",
    "    text = \"\"\n",
    "\n",
    "    for n in range(5):\n",
    "        user_input = my_guess(text,n) #Aufruf der Funktion für die Usereingabe (Text=Info für größer/kleiner Zahl, n = Anzahl durchläufe)\n",
    "\n",
    "        compared_values = compare_numbers(random_number,user_input) #Aufruf der Funktion für den Eingabevergleich\n",
    "        if compared_values == 1:\n",
    "            give_cookie(random_number) #Hergabe eines Cookies\n",
    "            return True #Rückgabewert, dass das Spiel gewonnen wird und es beendet werden kann. \n",
    "        elif n != 5:\n",
    "            if compared_values == 2:\n",
    "                text = \"Die Zahl ist größer, probier es noch einmal.\"\n",
    "                print(text)\n",
    "            else:\n",
    "                text = \"Die Zahl ist kleiner, probier es noch einmal.\"\n",
    "                print(text)\n",
    "        else:\n",
    "            return False # Beenden nach 5 Versuchen\n",
    "\n",
    "#Spielstart und Spielwiederholung solange der User spielen möchte\n",
    "while game_result:\n",
    "    game_result = start_game() #Aufruf der Funktion für die Spieldurchführung True wenn geschafft, False wenn nicht geschafft.\n",
    "\n",
    "    #Dauerschleife bis korrekte Eingabe des Users erfolgt\n",
    "    while wrong_input:\n",
    "        try: #Kontrolle für Eingabe einer Zahl\n",
    "            if game_result: #Information über Sieg/Niederlage und Eingabe für Wiederholung\n",
    "                user_input = int(input(information + 'Gratuliere du hast die Zahl erraten, willst du noch einmal spielen? (ja=1, nein=0)'))\n",
    "            else:\n",
    "                print('Du hast die Zahl leider nicht erraten')\n",
    "                time.sleep(0.25)\n",
    "                user_input = int(input(information + 'Du hast die Zahl leider nicht erraten, willst du noch einmal spielen? (ja=1, nein=0)'))\n",
    "            wrong_input = False\n",
    "        except:\n",
    "            print(\"Die Eingabe ist ungültig, nur 0 oder 1 eingeben.\")\n",
    "            information = \"Die Eingabe ist ungültig, nur 0 oder 1 eingeben. \"\n",
    "            #Variablen so setzen, dass die Dauerschleifen weiterlaufen\n",
    "            wrong_input = True\n",
    "            user_input = 2\n",
    "\n",
    "        #Kontrolle ob Eingabe nur 0 oder 1 ist\n",
    "        if user_input > 1:\n",
    "            wrong_input = True\n",
    "        else:\n",
    "            wrong_input = False\n",
    "\n",
    "    #Abfrage ob User noch einmal spielen möchte sonst Ende \n",
    "    if user_input == 1:\n",
    "        game_result = True\n",
    "        wrong_input = True\n",
    "    else:\n",
    "        game_result = False"
   ],
   "metadata": {
    "collapsed": false,
    "pycharm": {
     "name": "#%%\n"
    }
   }
  },
  {
   "cell_type": "code",
   "execution_count": 3,
   "outputs": [],
   "source": [],
   "metadata": {
    "collapsed": false,
    "pycharm": {
     "name": "#%%\n"
    }
   }
  },
  {
   "cell_type": "code",
   "execution_count": null,
   "outputs": [],
   "source": [],
   "metadata": {
    "collapsed": false,
    "pycharm": {
     "name": "#%%\n"
    }
   }
  }
 ],
 "metadata": {
  "kernelspec": {
   "display_name": "Python 3",
   "language": "python",
   "name": "python3"
  },
  "language_info": {
   "codemirror_mode": {
    "name": "ipython",
    "version": 2
   },
   "file_extension": ".py",
   "mimetype": "text/x-python",
   "name": "python",
   "nbconvert_exporter": "python",
   "pygments_lexer": "ipython2",
   "version": "2.7.6"
  }
 },
 "nbformat": 4,
 "nbformat_minor": 0
}