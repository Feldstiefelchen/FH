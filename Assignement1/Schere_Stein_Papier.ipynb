{
 "cells": [
  {
   "cell_type": "markdown",
   "metadata": {
    "collapsed": true,
    "pycharm": {
     "name": "#%% md\n"
    }
   },
   "source": [
    "# Schere, Stein, Papier\n",
    "**Information:**\n",
    "Variablen und Funktione werden klein geschrieben\n",
    "Klassen werden groß geschrieben"
   ]
  },
  {
   "cell_type": "code",
   "execution_count": 35,
   "outputs": [
    {
     "name": "stdout",
     "output_type": "stream",
     "text": [
      "Spiel 1:\n",
      "Das ist keine gültige Eingabe\n",
      "Spieler 1 gewinnt (Spieler 1: spock, Spieler 2: stein)\n"
     ]
    }
   ],
   "source": [
    "import time\n",
    "\n",
    "class Player:\n",
    "    __option = None\n",
    "    __options = [\"schere\", \"stein\", \"papier\", \"echse\", \"spock\"]\n",
    "    # add constructor, which receives option\n",
    "    def __init__ (self, option):\n",
    "        self.__option = option.lower() #Eingabe in Kleinbuchstaben konvertieren\n",
    "        kontrolle = self.__option in self.__options #Kontrolle ob Eingabe in Optionen enthalten ist\n",
    "        if not kontrolle:\n",
    "            #Falls Option nicht möglich ist wird ein \"leer\" in gespeichert\n",
    "            print(\"Das ist keine gültige Eingabe\")\n",
    "            self.__option = \"leer\"\n",
    "\n",
    "    # add private setter for option\n",
    "    def set_option(self, option):\n",
    "        self.__option = option.lower() #Eingabe in Kleinbuchstaben konvertieren\n",
    "        kontrolle = self.__option in self.__options #Kontrolle ob Eingabe in Optionen enthalten ist\n",
    "        if not kontrolle:\n",
    "            #Falls Option nicht möglich ist wird ein \"leer\" in gespeichert\n",
    "            print(\"Das ist keine gültige Eingabe\")\n",
    "            self.__option = \"leer\"\n",
    "\n",
    "    # add public getter\n",
    "    def get_option(self):\n",
    "        return self.__option\n",
    "\n",
    "class Game:\n",
    "    __player = []\n",
    "    def __init__(self, Player_One: Player, Player_Two: Player):\n",
    "        self.__options = None\n",
    "        self.__player.append(Player_One)\n",
    "        self.__player.append(Player_Two)\n",
    "        return\n",
    "\n",
    "    #Funktion für den Vergleich der Eingaben\n",
    "    def play(self):\n",
    "        #Spieler 1 = Stein\n",
    "        if self.__player[0].get_option() == \"stein\":\n",
    "            if self.__player[1].get_option() == \"stein\":\n",
    "                print(\"Unentschieden (Spieler 1: {}, Spieler 2: {})\".format(self.__player[0].get_option(),self.__player[1].get_option()))\n",
    "            elif self.__player[1].get_option() == \"schere\":\n",
    "                print(\"Spieler 1 gewinnt (Spieler 1: {}, Spieler 2: {})\".format(self.__player[0].get_option(),self.__player[1].get_option()))\n",
    "            elif self.__player[1].get_option() == \"papier\":\n",
    "                print(\"Spieler 2 gewinnt (Spieler 1: {}, Spieler 2: {})\".format(self.__player[0].get_option(),self.__player[1].get_option()))\n",
    "            elif self.__player[1].get_option() == \"echse\":\n",
    "                print(\"Spieler 1 gewinnt (Spieler 1: {}, Spieler 2: {})\".format(self.__player[0].get_option(),self.__player[1].get_option()))\n",
    "            else:\n",
    "                print(\"Spieler 2 gewinnt (Spieler 1: {}, Spieler 2: {})\".format(self.__player[0].get_option(),self.__player[1].get_option()))\n",
    "        #Spieler1 = Schere\n",
    "        elif self.__player[0].get_option() == \"schere\":\n",
    "            if self.__player[1].get_option() == \"stein\":\n",
    "                print(\"Spieler 2 gewinnt (Spieler 1: {}, Spieler 2: {})\".format(self.__player[0].get_option(),self.__player[1].get_option()))\n",
    "            elif self.__player[1].get_option() == \"schere\":\n",
    "                print(\"Unentschieden (Spieler 1: {}, Spieler 2: {})\".format(self.__player[0].get_option(),self.__player[1].get_option()))\n",
    "            elif self.__player[1].get_option() == \"papier\":\n",
    "                print(\"Spieler 1 gewinnt (Spieler 1: {}, Spieler 2: {})\".format(self.__player[0].get_option(),self.__player[1].get_option()))\n",
    "            elif self.__player[1].get_option() == \"echse\":\n",
    "                print(\"Spieler 1 gewinnt (Spieler 1: {}, Spieler 2: {})\".format(self.__player[0].get_option(),self.__player[1].get_option()))\n",
    "            else:\n",
    "                print(\"Spieler 2 gewinnt (Spieler 1: {}, Spieler 2: {})\".format(self.__player[0].get_option(),self.__player[1].get_option()))\n",
    "        #Spieler1 = Papier\n",
    "        elif self.__player[0].get_option() == \"papier\":\n",
    "            if self.__player[1].get_option() == \"stein\":\n",
    "                print(\"Spieler 1 gewinnt (Spieler 1: {}, Spieler 2: {})\".format(self.__player[0].get_option(),self.__player[1].get_option()))\n",
    "            elif self.__player[1].get_option() == \"schere\":\n",
    "                print(\"Spieler 2 gewinnt (Spieler 1: {}, Spieler 2: {})\".format(self.__player[0].get_option(),self.__player[1].get_option()))\n",
    "            elif self.__player[1].get_option() == \"papier\":\n",
    "                print(\"Unentschieden (Spieler 1: {}, Spieler 2: {})\".format(self.__player[0].get_option(),self.__player[1].get_option()))\n",
    "            elif self.__player[1].get_option() == \"echse\":\n",
    "                print(\"Spieler 2 gewinnt (Spieler 1: {}, Spieler 2: {})\".format(self.__player[0].get_option(),self.__player[1].get_option()))\n",
    "            else:\n",
    "                print(\"Spieler 1 gewinnt (Spieler 1: {}, Spieler 2: {})\".format(self.__player[0].get_option(),self.__player[1].get_option()))\n",
    "        #Spieler1 = Echse\n",
    "        elif self.__player[0].get_option() == \"echse\":\n",
    "            if self.__player[1].get_option() == \"stein\":\n",
    "                print(\"Spieler 2 gewinnt (Spieler 1: {}, Spieler 2: {})\".format(self.__player[0].get_option(),self.__player[1].get_option()))\n",
    "            elif self.__player[1].get_option() == \"schere\":\n",
    "                print(\"Spieler 2 gewinnt (Spieler 1: {}, Spieler 2: {})\".format(self.__player[0].get_option(),self.__player[1].get_option()))\n",
    "            elif self.__player[1].get_option() == \"papier\":\n",
    "                print(\"Spieler 1 gewinnt (Spieler 1: {}, Spieler 2: {})\".format(self.__player[0].get_option(),self.__player[1].get_option()))\n",
    "            elif self.__player[1].get_option() == \"echse\":\n",
    "                print(\"Unentschieden (Spieler 1: {}, Spieler 2: {})\".format(self.__player[0].get_option(),self.__player[1].get_option()))\n",
    "            else:\n",
    "                print(\"Spieler 1 gewinnt (Spieler 1: {}, Spieler 2: {})\".format(self.__player[0].get_option(),self.__player[1].get_option()))\n",
    "        #Spieler1 = Spock\n",
    "        else:\n",
    "            if self.__player[1].get_option() == \"stein\":\n",
    "                print(\"Spieler 1 gewinnt (Spieler 1: {}, Spieler 2: {})\".format(self.__player[0].get_option(),self.__player[1].get_option()))\n",
    "            elif self.__player[1].get_option() == \"schere\":\n",
    "                print(\"Spieler 1 gewinnt (Spieler 1: {}, Spieler 2: {})\".format(self.__player[0].get_option(),self.__player[1].get_option()))\n",
    "            elif self.__player[1].get_option() == \"papier\":\n",
    "                print(\"Spieler 2 gewinnt (Spieler 1: {}, Spieler 2: {})\".format(self.__player[0].get_option(),self.__player[1].get_option()))\n",
    "            elif self.__player[1].get_option() == \"echse\":\n",
    "                print(\"Spieler 2 gewinnt (Spieler 1: {}, Spieler 2: {})\".format(self.__player[0].get_option(),self.__player[1].get_option()))\n",
    "            else:\n",
    "                print(\"Unentschieden (Spieler 1: {}, Spieler 2: {})\".format(self.__player[0].get_option(),self.__player[1].get_option()))\n",
    "        return\n",
    "\n",
    "    def play_again (self):\n",
    "        options = [\"j\",\"n\"]\n",
    "        check = False\n",
    "        again = None\n",
    "\n",
    "        #Schleife bis eine korrekte Eingabe stattfindet\n",
    "        while not check:\n",
    "            again = str(input(\"Wollt ihr noch einmal spielen? [j]-ja/[n]-nein\"))\n",
    "            check = again in options #Kontrolle ob Eingabe in Optionen enthalten ist\n",
    "\n",
    "        if again == \"n\":\n",
    "            return False\n",
    "        else:\n",
    "            self.__player.clear() #Zurücksetzen der Spieler\n",
    "            print(\"_____________________________\")\n",
    "            return True\n",
    "\n",
    "#Spieldurchführung\n",
    "player = []\n",
    "continue_game = True\n",
    "count = 0\n",
    "\n",
    "#Schleife solange man spielen möchte\n",
    "while continue_game == True:\n",
    "    count += 1 #Hochzählen der Spielrunden\n",
    "    print(\"Spiel {}:\".format(str(count)))\n",
    "    time.sleep(0.25)\n",
    "    #Durchgang für jeden Spieler\n",
    "    for n in range(2):\n",
    "        player.append(Player(input(\"Spieler {}, was wählst du?(Schere, Stein, Papier, Echse, Spock)\".format(str(n+1))))) #Einfügen eines Spieler nach der Eingabe\n",
    "        #Schleife bis gültige Eingabe erfolgt\n",
    "        while player[n].get_option() == \"leer\":\n",
    "            time.sleep(1)\n",
    "            player[n].set_option(input(\"Das war keine gültige Eingabe, nur Schere, Stein, Papier, Echse oder Spock\"))\n",
    "\n",
    "    #Spielaufruf\n",
    "    game = Game(player[0], player[1])\n",
    "    game.play()\n",
    "    time.sleep(3)\n",
    "    continue_game = game.play_again()\n",
    "    player.clear() #Spielerliste leeren"
   ],
   "metadata": {
    "collapsed": false,
    "pycharm": {
     "name": "#%%\n"
    }
   }
  },
  {
   "cell_type": "code",
   "execution_count": 32,
   "outputs": [],
   "source": [],
   "metadata": {
    "collapsed": false,
    "pycharm": {
     "name": "#%%\n"
    }
   }
  },
  {
   "cell_type": "code",
   "execution_count": null,
   "outputs": [],
   "source": [],
   "metadata": {
    "collapsed": false,
    "pycharm": {
     "name": "#%%\n"
    }
   }
  }
 ],
 "metadata": {
  "kernelspec": {
   "display_name": "Python 3",
   "language": "python",
   "name": "python3"
  },
  "language_info": {
   "codemirror_mode": {
    "name": "ipython",
    "version": 2
   },
   "file_extension": ".py",
   "mimetype": "text/x-python",
   "name": "python",
   "nbconvert_exporter": "python",
   "pygments_lexer": "ipython2",
   "version": "2.7.6"
  }
 },
 "nbformat": 4,
 "nbformat_minor": 0
}